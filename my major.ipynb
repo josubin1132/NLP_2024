{
  "nbformat": 4,
  "nbformat_minor": 0,
  "metadata": {
    "colab": {
      "provenance": [],
      "authorship_tag": "ABX9TyPfy/ymKtgqWOLpo3MQoMz1",
      "include_colab_link": true
    },
    "kernelspec": {
      "name": "python3",
      "display_name": "Python 3"
    },
    "language_info": {
      "name": "python"
    }
  },
  "cells": [
    {
      "cell_type": "markdown",
      "metadata": {
        "id": "view-in-github",
        "colab_type": "text"
      },
      "source": [
        "<a href=\"https://colab.research.google.com/github/josubin1132/NLP_2024/blob/main/my%20major.ipynb\" target=\"_parent\"><img src=\"https://colab.research.google.com/assets/colab-badge.svg\" alt=\"Open In Colab\"/></a>"
      ]
    },
    {
      "cell_type": "code",
      "source": [],
      "metadata": {
        "id": "j4UeY3f-O3sZ"
      },
      "execution_count": null,
      "outputs": []
    },
    {
      "cell_type": "markdown",
      "source": [
        "##**MY Major**\n",
        "\n",
        "###Hello, my name is Su-bin Jo and I would like to introduce you to the Department of Convention and Hotel Management.🏨\n",
        "\n",
        "###Our department offers classes that combine theory and practice with key knowledge required by global companies such as hotels, airlines, and conventions.\n",
        "\n",
        "###We cultivate global talent through language training, acquisition of professional certifications, and internships in domestic and overseas hotel and airline industries.\n",
        "\n",
        "###Let’s take a brief look at what hoteliers do through the video.([Visit Youtibe homepage](https://www.youtube.com/watch?v=s-pco2dowHo))\n",
        "\n",
        "###We also provide practical opportunities such as visiting 5-star hotels such as Grand Hyatt Incheon and visiting T'way airlines.\n",
        "\n",
        "###Unlike other departments, there is an independent organization called a student society other than the student council.\n",
        "\n",
        "###The difference between an academic society and a student council is that the student council is mainly responsible for internal activities, and the academic society is mainly responsible for external activities.\n",
        "\n",
        "###The society is comprised of planning, academic, and management teams centered around the vice president, and is in charge of department promotional activities, external activities, and connection with CVB and PCO.\n"
      ],
      "metadata": {
        "id": "oW06ixnXO5bW"
      }
    }
  ]
}