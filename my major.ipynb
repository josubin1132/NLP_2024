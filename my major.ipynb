{
  "nbformat": 4,
  "nbformat_minor": 0,
  "metadata": {
    "colab": {
      "provenance": [],
      "authorship_tag": "ABX9TyNsFPvjpUw2zaZUPq+Issfq",
      "include_colab_link": true
    },
    "kernelspec": {
      "name": "python3",
      "display_name": "Python 3"
    },
    "language_info": {
      "name": "python"
    }
  },
  "cells": [
    {
      "cell_type": "markdown",
      "metadata": {
        "id": "view-in-github",
        "colab_type": "text"
      },
      "source": [
        "<a href=\"https://colab.research.google.com/github/josubin1132/NLP_2024/blob/main/my%20major.ipynb\" target=\"_parent\"><img src=\"https://colab.research.google.com/assets/colab-badge.svg\" alt=\"Open In Colab\"/></a>"
      ]
    },
    {
      "cell_type": "code",
      "source": [],
      "metadata": {
        "id": "j4UeY3f-O3sZ"
      },
      "execution_count": null,
      "outputs": []
    },
    {
      "cell_type": "markdown",
      "source": [
        "##**MY Major**\n",
        "\n",
        "###안녕하세요, 컨벤션호텔경영학과에 대해 소개할 조수빈입니다.🏨\n",
        "\n",
        "###저희 학과는 호텔, 항공사, 컨벤션 등 글로벌 기업이 요구하는 주요 지식에 이론과 실무를 접목한 수업을 진행하고 있습니다.\n",
        "\n",
        "###어학연수, 전문 자격증 취득은 물론, 국내외 호텔, 항공업계 인턴십을 통해 글로벌 인재를 양성하고 있습니다.\n",
        "\n",
        "###영상을 통해 호텔리어([Visit Youtibe homepage](https://www.youtube.com/watch?v=s-pco2dowHo))가 하는 일에 대해 간랸하게 알아보겠습니다\n",
        "\n",
        "###또 그랜드 하얏트 인천과 같이 5성급 호텔과의 탐방, 티웨이 항공사 탐방 등 실무적인 기회를 제공하고 있습니다"
      ],
      "metadata": {
        "id": "oW06ixnXO5bW"
      }
    }
  ]
}