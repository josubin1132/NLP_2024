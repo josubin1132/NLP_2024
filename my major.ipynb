{
  "nbformat": 4,
  "nbformat_minor": 0,
  "metadata": {
    "colab": {
      "provenance": [],
      "authorship_tag": "ABX9TyNQgX6ydWPy7qWGYAHfcLHr",
      "include_colab_link": true
    },
    "kernelspec": {
      "name": "python3",
      "display_name": "Python 3"
    },
    "language_info": {
      "name": "python"
    }
  },
  "cells": [
    {
      "cell_type": "markdown",
      "metadata": {
        "id": "view-in-github",
        "colab_type": "text"
      },
      "source": [
        "<a href=\"https://colab.research.google.com/github/josubin1132/NLP_2024/blob/main/my%20major.ipynb\" target=\"_parent\"><img src=\"https://colab.research.google.com/assets/colab-badge.svg\" alt=\"Open In Colab\"/></a>"
      ]
    },
    {
      "cell_type": "code",
      "source": [],
      "metadata": {
        "id": "j4UeY3f-O3sZ"
      },
      "execution_count": null,
      "outputs": []
    },
    {
      "cell_type": "markdown",
      "source": [
        "##**🎓MY Major**🎓\n",
        "\n",
        "###Hello, my name is Su-bin Jo and I would like to introduce you to the Department of<font color = green> Convention and Hotel Management.🏨\n",
        "\n",
        "###Our department offers classes that combine theory and practice with key knowledge required by global companies such as hotels, airlines, and conventions.\n",
        "\n",
        "###We cultivate global talent through language training, acquisition of professional certifications, and internships in domestic and overseas hotel and airline industries.\n",
        "\n",
        "###Let’s take a brief look at what [hoteliers](https://www.youtube.com/watch?v=s-pco2dowH)do through the video.\n",
        "\n",
        "###We also provide practical opportunities such as visiting 5-star hotels such as Grand Hyatt Incheon and visiting T'way airlines.\n",
        "\n",
        "### After graduation, you can work in various fields of the tourism industry, including <font color = green> hotels, mice, aviation, and airlines.\n",
        "\n",
        "###For example, this could lead to a position as a hotel front desk, concierge, airline ground staff, cabin crew, exhibition planner in the MICE sector, international conference planner, etc., or even employment in a local tourism organization.\n",
        "\n",
        "###Unlike other departments, there is an independent organization called a student society other than the <font color = green> student council.\n",
        "\n",
        "###The difference between an academic society and a student council is that the student council is mainly responsible for internal activities, and the academic society is mainly responsible for<font color = green> external activities.\n",
        "\n",
        "###The society is comprised of planning, academic, and management teams centered around the vice president, and is in charge of department promotional activities, external activities, and connection with CVB and PCO.\n",
        "\n",
        "###Lastly, every February, we hold a <font color = green> mentoring day</font>  event that provides a campus tour of the casino and cocktails to help new students adjust.\n",
        "\n",
        "### In addition, every November, we rent a large hotel hall and hold an event called <font color = green> Hotel Manager's Night,</font> which is a convention where events such as networking among freshmen, talk concerts with graduates, and prize drawings are held.\n",
        "\n",
        "###If you are curious about the Department of Convention and Hotel Management, please refer to the link below.\n",
        "\n",
        "### Thank you !!😊\n",
        "\n",
        "\n",
        "###**👇For detailed news, please refer to the link below**👇\n",
        "- [Department homepage](https://hotel.hannam.ac.kr/)\n",
        "\n",
        "- [Department Youtube](https://www.youtube.com/@hnu_hotelairline)\n",
        "\n",
        "- [Department Instagram](https://www.instagram.com/hnu_hotelairline/)\n",
        "\n",
        "\n",
        "###**Useful References**\n",
        "- [한남대학교 컨벤션호텔경영학과 홈페이지](https://hotel.hannam.ac.kr/)"
      ],
      "metadata": {
        "id": "oW06ixnXO5bW"
      }
    }
  ]
}